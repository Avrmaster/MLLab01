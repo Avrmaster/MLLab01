{
  "nbformat": 4,
  "nbformat_minor": 0,
  "metadata": {
    "colab": {
      "name": "Lab01Part1.ipynb",
      "provenance": [],
      "collapsed_sections": []
    },
    "kernelspec": {
      "name": "python3",
      "display_name": "Python 3"
    }
  },
  "cells": [
    {
      "cell_type": "code",
      "metadata": {
        "id": "JIPJsawlaKU3",
        "colab_type": "code",
        "colab": {
          "base_uri": "https://localhost:8080/",
          "height": 34
        },
        "outputId": "9ec0d7fd-39fb-4621-a05b-ab8b1d9ee2f3"
      },
      "source": [
        "from google.colab import drive\n",
        "drive.mount('/content/drive')"
      ],
      "execution_count": 1,
      "outputs": [
        {
          "output_type": "stream",
          "text": [
            "Drive already mounted at /content/drive; to attempt to forcibly remount, call drive.mount(\"/content/drive\", force_remount=True).\n"
          ],
          "name": "stdout"
        }
      ]
    },
    {
      "cell_type": "code",
      "metadata": {
        "id": "tHLgxiLKayQt",
        "colab_type": "code",
        "colab": {}
      },
      "source": [
        "from sklearn.linear_model import Ridge, Lasso, LinearRegression, ElasticNet\n",
        "from sklearn.preprocessing import OneHotEncoder\n",
        "from sklearn.metrics import mean_absolute_error\n",
        "from sklearn import preprocessing\n",
        "from typing import Tuple\n",
        "import pandas_profiling\n",
        "import pandas as pd\n",
        "import numpy as np"
      ],
      "execution_count": 0,
      "outputs": []
    },
    {
      "cell_type": "code",
      "metadata": {
        "id": "yzTh7MjYbIm6",
        "colab_type": "code",
        "colab": {}
      },
      "source": [
        "def encode_categories(source_data, column_name):\n",
        "    if column_name not in source_data:\n",
        "      return\n",
        "    le = preprocessing.LabelEncoder()\n",
        "    le.fit(source_data[column_name])\n",
        "    categories = le.classes_\n",
        "\n",
        "    view_encoder = OneHotEncoder(categories=[categories], handle_unknown='ignore', sparse=False)\n",
        "    new_view: np.ndarray = view_encoder.fit_transform(source_data[column_name].values.reshape(-1, 1))\n",
        "    for i, c in enumerate(view_encoder.categories_[0]):\n",
        "        source_data.insert(1, f'{column_name} №{c}', new_view[:, i])\n",
        "    return source_data.drop([column_name], axis=1)"
      ],
      "execution_count": 0,
      "outputs": []
    },
    {
      "cell_type": "code",
      "metadata": {
        "id": "3GrljhdLbRVb",
        "colab_type": "code",
        "colab": {}
      },
      "source": [
        "data = pd.read_csv('./drive/My Drive/prices_original.csv')\n",
        "\n",
        "data = data.drop([\n",
        "    'id', 'date', 'lat', 'long', 'sqft_living',\n",
        "    'yr_built', 'yr_renovated', 'waterfront'\n",
        "], axis=1)\n",
        "\n",
        "data = encode_categories(data, 'view')\n",
        "data = encode_categories(data, 'condition')\n",
        "data = encode_categories(data, 'floors')\n",
        "data = encode_categories(data, 'zipcode')"
      ],
      "execution_count": 0,
      "outputs": []
    },
    {
      "cell_type": "code",
      "metadata": {
        "id": "TlDivOjkhWpj",
        "colab_type": "code",
        "colab": {}
      },
      "source": [
        "def separate_prices(to_separate_data: np.ndarray) -> Tuple[np.ndarray, np.ndarray]:\n",
        "    x_arr = to_separate_data[:, list(range(1, len(to_separate_data[0])))]\n",
        "    y_arr = to_separate_data[:, [0]]\n",
        "\n",
        "    return x_arr, y_arr"
      ],
      "execution_count": 0,
      "outputs": []
    },
    {
      "cell_type": "code",
      "metadata": {
        "id": "1VRCn0hZhkrY",
        "colab_type": "code",
        "colab": {}
      },
      "source": [
        "np_data = data.to_numpy()\n",
        "\n",
        "train_threshold_index = int(len(np_data) * 0.53284)\n",
        "\n",
        "train_data = np_data[:train_threshold_index]\n",
        "test_data = np_data[train_threshold_index:]"
      ],
      "execution_count": 0,
      "outputs": []
    },
    {
      "cell_type": "code",
      "metadata": {
        "id": "taQucEzXiczo",
        "colab_type": "code",
        "colab": {}
      },
      "source": [
        "scaler = preprocessing.StandardScaler()\n",
        "train_data = scaler.fit_transform(train_data)\n",
        "test_data = scaler.transform(test_data)\n",
        "\n",
        "train_inputs, train_prices = separate_prices(train_data)\n",
        "test_inputs, test_prices = separate_prices(test_data)"
      ],
      "execution_count": 0,
      "outputs": []
    },
    {
      "cell_type": "code",
      "metadata": {
        "id": "YaM9astNihIL",
        "colab_type": "code",
        "colab": {
          "base_uri": "https://localhost:8080/",
          "height": 51
        },
        "outputId": "f75d7c13-3cbd-401a-9f1e-74a54aadaa2c"
      },
      "source": [
        "model = Ridge(alpha=.07, max_iter=90000000)\n",
        "print(model.fit(train_inputs, train_prices))"
      ],
      "execution_count": 31,
      "outputs": [
        {
          "output_type": "stream",
          "text": [
            "Ridge(alpha=0.07, copy_X=True, fit_intercept=True, max_iter=90000000,\n",
            "      normalize=False, random_state=None, solver='auto', tol=0.001)\n"
          ],
          "name": "stdout"
        }
      ]
    },
    {
      "cell_type": "code",
      "metadata": {
        "id": "Ki-A6I6xilB9",
        "colab_type": "code",
        "colab": {
          "base_uri": "https://localhost:8080/",
          "height": 34
        },
        "outputId": "4e7b80f7-e8e6-4f3a-f6b1-c543462e0a73"
      },
      "source": [
        "print('score', model.score(test_inputs, test_prices))"
      ],
      "execution_count": 42,
      "outputs": [
        {
          "output_type": "stream",
          "text": [
            "score 0.8151131779510338\n"
          ],
          "name": "stdout"
        }
      ]
    },
    {
      "cell_type": "code",
      "metadata": {
        "id": "Y3mYRSyVp_YM",
        "colab_type": "code",
        "colab": {
          "base_uri": "https://localhost:8080/",
          "height": 34
        },
        "outputId": "49ce45a8-9732-4e4c-ef2a-c599faac610f"
      },
      "source": [
        "predicted = model.predict(test_inputs)\n",
        "\n",
        "scaled_back_predicted = scaler.inverse_transform(np.concatenate((predicted, test_inputs), axis=1))\n",
        "scaled_back_expected = scaler.inverse_transform(np.concatenate((test_prices, test_inputs), axis=1))\n",
        "\n",
        "print('mean_absolute_error', mean_absolute_error(scaled_back_predicted, scaled_back_expected))"
      ],
      "execution_count": 41,
      "outputs": [
        {
          "output_type": "stream",
          "text": [
            "mean_absolute_error 1023.223559408838\n"
          ],
          "name": "stdout"
        }
      ]
    }
  ]
}