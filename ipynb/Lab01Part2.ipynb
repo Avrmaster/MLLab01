{
  "nbformat": 4,
  "nbformat_minor": 0,
  "metadata": {
    "colab": {
      "name": "Lab01Part1.ipynb",
      "provenance": [],
      "collapsed_sections": []
    },
    "kernelspec": {
      "name": "python3",
      "display_name": "Python 3"
    }
  },
  "cells": [
    {
      "cell_type": "code",
      "metadata": {
        "id": "JIPJsawlaKU3",
        "colab_type": "code",
        "outputId": "9ce439d9-0499-483d-8f4f-e8871f62be1d",
        "colab": {
          "base_uri": "https://localhost:8080/",
          "height": 34
        }
      },
      "source": [
        "from google.colab import drive\n",
        "drive.mount('/content/drive')"
      ],
      "execution_count": 1,
      "outputs": [
        {
          "output_type": "stream",
          "text": [
            "Drive already mounted at /content/drive; to attempt to forcibly remount, call drive.mount(\"/content/drive\", force_remount=True).\n"
          ],
          "name": "stdout"
        }
      ]
    },
    {
      "cell_type": "code",
      "metadata": {
        "id": "tHLgxiLKayQt",
        "colab_type": "code",
        "colab": {}
      },
      "source": [
        "from sklearn.linear_model import Ridge, Lasso, LinearRegression, ElasticNet\n",
        "from sklearn.preprocessing import OneHotEncoder\n",
        "from sklearn.metrics import mean_absolute_error\n",
        "from sklearn import preprocessing\n",
        "from typing import Tuple\n",
        "import pandas_profiling\n",
        "import pandas as pd\n",
        "import numpy as np"
      ],
      "execution_count": 0,
      "outputs": []
    },
    {
      "cell_type": "code",
      "metadata": {
        "id": "yzTh7MjYbIm6",
        "colab_type": "code",
        "colab": {}
      },
      "source": [
        "def encode_categories(source_data, column_name):\n",
        "    if column_name not in source_data:\n",
        "      return\n",
        "    le = preprocessing.LabelEncoder()\n",
        "    le.fit(source_data[column_name])\n",
        "    categories = le.classes_\n",
        "\n",
        "    view_encoder = OneHotEncoder(categories=[categories], handle_unknown='ignore', sparse=False)\n",
        "    new_view: np.ndarray = view_encoder.fit_transform(source_data[column_name].values.reshape(-1, 1))\n",
        "    for i, c in enumerate(view_encoder.categories_[0]):\n",
        "        source_data.insert(1, f'{column_name} №{c}', new_view[:, i])\n",
        "    return source_data.drop([column_name], axis=1)"
      ],
      "execution_count": 0,
      "outputs": []
    },
    {
      "cell_type": "code",
      "metadata": {
        "id": "3GrljhdLbRVb",
        "colab_type": "code",
        "colab": {}
      },
      "source": [
        "data = pd.read_csv('./drive/My Drive/prices_original.csv')\n",
        "\n",
        "data = data.drop([\n",
        "    'id', 'date', 'lat', 'long', 'sqft_living',\n",
        "    'yr_built', 'yr_renovated', 'waterfront'\n",
        "], axis=1)\n",
        "\n",
        "data = encode_categories(data, 'view')\n",
        "data = encode_categories(data, 'condition')\n",
        "data = encode_categories(data, 'floors')\n",
        "data = encode_categories(data, 'zipcode')"
      ],
      "execution_count": 0,
      "outputs": []
    },
    {
      "cell_type": "code",
      "metadata": {
        "id": "TlDivOjkhWpj",
        "colab_type": "code",
        "colab": {}
      },
      "source": [
        "def separate_prices(to_separate_data: np.ndarray) -> Tuple[np.ndarray, np.ndarray]:\n",
        "    x_arr = to_separate_data[:, list(range(1, len(to_separate_data[0])))]\n",
        "    y_arr = to_separate_data[:, [0]]\n",
        "\n",
        "    return x_arr, y_arr"
      ],
      "execution_count": 0,
      "outputs": []
    },
    {
      "cell_type": "code",
      "metadata": {
        "id": "1VRCn0hZhkrY",
        "colab_type": "code",
        "colab": {}
      },
      "source": [
        "np_data = data.to_numpy()\n",
        "\n",
        "train_threshold_index = int(len(np_data) * 0.83284)\n",
        "\n",
        "train_data = np_data[:train_threshold_index]\n",
        "test_data = np_data[train_threshold_index:]"
      ],
      "execution_count": 0,
      "outputs": []
    },
    {
      "cell_type": "code",
      "metadata": {
        "id": "taQucEzXiczo",
        "colab_type": "code",
        "colab": {}
      },
      "source": [
        "scaler = preprocessing.StandardScaler()\n",
        "train_data = scaler.fit_transform(train_data)\n",
        "test_data = scaler.transform(test_data)\n",
        "\n",
        "train_inputs, train_prices = separate_prices(train_data)\n",
        "test_inputs, test_prices = separate_prices(test_data)"
      ],
      "execution_count": 0,
      "outputs": []
    },
    {
      "cell_type": "code",
      "metadata": {
        "id": "YaM9astNihIL",
        "colab_type": "code",
        "outputId": "1655f551-ad5d-4178-fc7c-deeac32c78d0",
        "colab": {
          "base_uri": "https://localhost:8080/",
          "height": 51
        }
      },
      "source": [
        "model = Ridge(alpha=.07, max_iter=90000000)\n",
        "print(model.fit(train_inputs, train_prices))"
      ],
      "execution_count": 8,
      "outputs": [
        {
          "output_type": "stream",
          "text": [
            "Ridge(alpha=0.07, copy_X=True, fit_intercept=True, max_iter=90000000,\n",
            "      normalize=False, random_state=None, solver='auto', tol=0.001)\n"
          ],
          "name": "stdout"
        }
      ]
    },
    {
      "cell_type": "code",
      "metadata": {
        "id": "Ki-A6I6xilB9",
        "colab_type": "code",
        "outputId": "f56e1d48-af7c-438e-d190-4f7356e9bdd7",
        "colab": {
          "base_uri": "https://localhost:8080/",
          "height": 34
        }
      },
      "source": [
        "print('score', model.score(test_inputs, test_prices))"
      ],
      "execution_count": 9,
      "outputs": [
        {
          "output_type": "stream",
          "text": [
            "score 0.8109338538402734\n"
          ],
          "name": "stdout"
        }
      ]
    },
    {
      "cell_type": "code",
      "metadata": {
        "id": "Y3mYRSyVp_YM",
        "colab_type": "code",
        "outputId": "8c723bad-3251-4cf3-e4a9-d134dc4eced9",
        "colab": {
          "base_uri": "https://localhost:8080/",
          "height": 34
        }
      },
      "source": [
        "predicted_sklearn = model.predict(test_inputs)\n",
        "\n",
        "scaled_back_sklearn_predicted = scaler.inverse_transform(np.concatenate((predicted_sklearn, test_inputs), axis=1))\n",
        "scaled_back_expected = scaler.inverse_transform(np.concatenate((test_prices, test_inputs), axis=1))\n",
        "\n",
        "print('SKLEARN mean_absolute_error', mean_absolute_error(scaled_back_sklearn_predicted, scaled_back_expected))"
      ],
      "execution_count": 10,
      "outputs": [
        {
          "output_type": "stream",
          "text": [
            "SKLEARN mean_absolute_error 1006.1985796755744\n"
          ],
          "name": "stdout"
        }
      ]
    },
    {
      "cell_type": "code",
      "metadata": {
        "id": "xKHjIuOG0zi-",
        "colab_type": "code",
        "colab": {
          "base_uri": "https://localhost:8080/",
          "height": 272
        },
        "outputId": "6138b2fd-131d-4896-e179-5e11be2389cd"
      },
      "source": [
        "# define own regression model\n",
        "class HousesModel:\n",
        "  def __init__(self, alpha=0.2, iters = 1000):\n",
        "    self._alpha = alpha\n",
        "    self._iters = iters\n",
        "  \n",
        "  def compute_cost(self, X, y, coefs):\n",
        "    tobesummed = np.power(((X @ coefs)-y),2)\n",
        "    return np.sum(tobesummed)/(2*len(X))\n",
        "\n",
        "  def fit(self, X, y):\n",
        "    # +1 for bias\n",
        "    self._theta = np.random.uniform(0, 1, 1 + np.size(X, axis=1))\n",
        "    \n",
        "    ones = np.ones([X.shape[0],1])\n",
        "    X = np.concatenate((ones,X),axis=1)\n",
        "    y = y.reshape(-1)\n",
        "\n",
        "    theta = self._theta\n",
        "    alpha = self._alpha\n",
        "    iters = self._iters\n",
        "    \n",
        "    print('X shape', X.shape)\n",
        "    print('theta s', theta.shape)\n",
        "    print('y shape', y.shape)\n",
        "    print()\n",
        "\n",
        "    for i in range(iters):\n",
        "      prediction = np.dot(X, theta)\n",
        "      theta = theta - (alpha/len(X)) * (X.T.dot(prediction - y))\n",
        "      alpha *= 0.999999\n",
        "\n",
        "      if i % (iters / 10) == 0:\n",
        "        print('MSE:', self.compute_cost(X, y, theta))\n",
        "    \n",
        "    self._theta = theta\n",
        "    return self\n",
        "  \n",
        "  def predict(self, X):\n",
        "    ones = np.ones([X.shape[0],1])\n",
        "    X = np.concatenate((ones,X),axis=1)\n",
        "    return X.dot(self._theta).reshape(-1, 1)\n",
        "  \n",
        "own_model = HousesModel()\n",
        "own_model.fit(train_inputs, train_prices)\n",
        "\n",
        "predicted_own = own_model.predict(test_inputs)\n",
        "\n",
        "scaled_back_own_predicted = scaler.inverse_transform(np.concatenate((predicted_own, test_inputs), axis=1))\n",
        "\n",
        "print('OWN mean_absolute_error', mean_absolute_error(scaled_back_own_predicted, scaled_back_expected))"
      ],
      "execution_count": 44,
      "outputs": [
        {
          "output_type": "stream",
          "text": [
            "X shape (18000, 95)\n",
            "theta s (95,)\n",
            "y shape (18000,)\n",
            "\n",
            "MSE: 3.5730860473576564\n",
            "MSE: 0.10062523598835989\n",
            "MSE: 0.10056243207115968\n",
            "MSE: 0.10056221877071983\n",
            "MSE: 0.10056221804163559\n",
            "MSE: 0.10056221803914206\n",
            "MSE: 0.10056221803913351\n",
            "MSE: 0.1005622180391335\n",
            "MSE: 0.1005622180391335\n",
            "MSE: 0.10056221803913348\n",
            "OWN mean_absolute_error 1006.2006206158147\n"
          ],
          "name": "stdout"
        }
      ]
    }
  ]
}